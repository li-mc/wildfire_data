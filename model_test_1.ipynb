{
 "cells": [
  {
   "cell_type": "code",
   "execution_count": 1,
   "metadata": {},
   "outputs": [],
   "source": [
    "import pandas as pd"
   ]
  },
  {
   "cell_type": "code",
   "execution_count": 2,
   "metadata": {},
   "outputs": [
    {
     "name": "stderr",
     "output_type": "stream",
     "text": [
      "Intel(R) Data Analytics Acceleration Library (Intel(R) DAAL) solvers for sklearn enabled: https://intelpython.github.io/daal4py/sklearn.html\n"
     ]
    }
   ],
   "source": [
    "from sklearn.model_selection import train_test_split\n",
    "from sklearn.tree import DecisionTreeClassifier\n",
    "from sklearn.metrics import accuracy_score\n",
    "from sklearn import tree\n",
    "import sklearn\n",
    "import graphviz\n",
    "from matplotlib import pyplot as plt"
   ]
  },
  {
   "cell_type": "markdown",
   "metadata": {},
   "source": [
    "## Trying a decision tree with the cleaned data, using FIRE_SIZE_CLASS as the label."
   ]
  },
  {
   "cell_type": "code",
   "execution_count": 3,
   "metadata": {},
   "outputs": [],
   "source": [
    "data = pd.read_pickle('final_dataset_1.pkl')\n"
   ]
  },
  {
   "cell_type": "code",
   "execution_count": 4,
   "metadata": {},
   "outputs": [
    {
     "data": {
      "text/html": [
       "<div>\n",
       "<style scoped>\n",
       "    .dataframe tbody tr th:only-of-type {\n",
       "        vertical-align: middle;\n",
       "    }\n",
       "\n",
       "    .dataframe tbody tr th {\n",
       "        vertical-align: top;\n",
       "    }\n",
       "\n",
       "    .dataframe thead th {\n",
       "        text-align: right;\n",
       "    }\n",
       "</style>\n",
       "<table border=\"1\" class=\"dataframe\">\n",
       "  <thead>\n",
       "    <tr style=\"text-align: right;\">\n",
       "      <th></th>\n",
       "      <th>DISCOVERY_DATETIME</th>\n",
       "      <th>STATE</th>\n",
       "      <th>TIME_TO_CONT</th>\n",
       "      <th>FIRE_YEAR</th>\n",
       "      <th>STAT_CAUSE_CODE</th>\n",
       "      <th>LATITUDE</th>\n",
       "      <th>LONGITUDE</th>\n",
       "      <th>FIRE_SIZE_CLASS</th>\n",
       "    </tr>\n",
       "  </thead>\n",
       "  <tbody>\n",
       "    <tr>\n",
       "      <th>0</th>\n",
       "      <td>2</td>\n",
       "      <td>4.0</td>\n",
       "      <td>4.50</td>\n",
       "      <td>2005</td>\n",
       "      <td>9.0</td>\n",
       "      <td>40.036944</td>\n",
       "      <td>-121.005833</td>\n",
       "      <td>1</td>\n",
       "    </tr>\n",
       "    <tr>\n",
       "      <th>1</th>\n",
       "      <td>5</td>\n",
       "      <td>4.0</td>\n",
       "      <td>6.75</td>\n",
       "      <td>2004</td>\n",
       "      <td>1.0</td>\n",
       "      <td>38.933056</td>\n",
       "      <td>-120.404444</td>\n",
       "      <td>1</td>\n",
       "    </tr>\n",
       "    <tr>\n",
       "      <th>2</th>\n",
       "      <td>5</td>\n",
       "      <td>4.0</td>\n",
       "      <td>1.05</td>\n",
       "      <td>2004</td>\n",
       "      <td>5.0</td>\n",
       "      <td>38.984167</td>\n",
       "      <td>-120.735556</td>\n",
       "      <td>1</td>\n",
       "    </tr>\n",
       "    <tr>\n",
       "      <th>3</th>\n",
       "      <td>6</td>\n",
       "      <td>4.0</td>\n",
       "      <td>118.00</td>\n",
       "      <td>2004</td>\n",
       "      <td>1.0</td>\n",
       "      <td>38.559167</td>\n",
       "      <td>-119.913333</td>\n",
       "      <td>1</td>\n",
       "    </tr>\n",
       "    <tr>\n",
       "      <th>4</th>\n",
       "      <td>6</td>\n",
       "      <td>4.0</td>\n",
       "      <td>116.00</td>\n",
       "      <td>2004</td>\n",
       "      <td>1.0</td>\n",
       "      <td>38.559167</td>\n",
       "      <td>-119.933056</td>\n",
       "      <td>1</td>\n",
       "    </tr>\n",
       "  </tbody>\n",
       "</table>\n",
       "</div>"
      ],
      "text/plain": [
       "   DISCOVERY_DATETIME  STATE  TIME_TO_CONT  FIRE_YEAR  STAT_CAUSE_CODE  \\\n",
       "0                   2    4.0          4.50       2005              9.0   \n",
       "1                   5    4.0          6.75       2004              1.0   \n",
       "2                   5    4.0          1.05       2004              5.0   \n",
       "3                   6    4.0        118.00       2004              1.0   \n",
       "4                   6    4.0        116.00       2004              1.0   \n",
       "\n",
       "    LATITUDE   LONGITUDE  FIRE_SIZE_CLASS  \n",
       "0  40.036944 -121.005833                1  \n",
       "1  38.933056 -120.404444                1  \n",
       "2  38.984167 -120.735556                1  \n",
       "3  38.559167 -119.913333                1  \n",
       "4  38.559167 -119.933056                1  "
      ]
     },
     "execution_count": 4,
     "metadata": {},
     "output_type": "execute_result"
    }
   ],
   "source": [
    "data.head()\n"
   ]
  },
  {
   "cell_type": "code",
   "execution_count": 5,
   "metadata": {},
   "outputs": [],
   "source": [
    "y = data['FIRE_SIZE_CLASS']\n",
    "X = data.drop(columns=['FIRE_SIZE_CLASS'])"
   ]
  },
  {
   "cell_type": "code",
   "execution_count": 6,
   "metadata": {},
   "outputs": [
    {
     "data": {
      "text/plain": [
       "0    1\n",
       "1    1\n",
       "2    1\n",
       "3    1\n",
       "4    1\n",
       "Name: FIRE_SIZE_CLASS, dtype: int64"
      ]
     },
     "execution_count": 6,
     "metadata": {},
     "output_type": "execute_result"
    }
   ],
   "source": [
    "y.head()"
   ]
  },
  {
   "cell_type": "code",
   "execution_count": 7,
   "metadata": {},
   "outputs": [
    {
     "data": {
      "text/html": [
       "<div>\n",
       "<style scoped>\n",
       "    .dataframe tbody tr th:only-of-type {\n",
       "        vertical-align: middle;\n",
       "    }\n",
       "\n",
       "    .dataframe tbody tr th {\n",
       "        vertical-align: top;\n",
       "    }\n",
       "\n",
       "    .dataframe thead th {\n",
       "        text-align: right;\n",
       "    }\n",
       "</style>\n",
       "<table border=\"1\" class=\"dataframe\">\n",
       "  <thead>\n",
       "    <tr style=\"text-align: right;\">\n",
       "      <th></th>\n",
       "      <th>DISCOVERY_DATETIME</th>\n",
       "      <th>STATE</th>\n",
       "      <th>TIME_TO_CONT</th>\n",
       "      <th>FIRE_YEAR</th>\n",
       "      <th>STAT_CAUSE_CODE</th>\n",
       "      <th>LATITUDE</th>\n",
       "      <th>LONGITUDE</th>\n",
       "    </tr>\n",
       "  </thead>\n",
       "  <tbody>\n",
       "    <tr>\n",
       "      <th>0</th>\n",
       "      <td>2</td>\n",
       "      <td>4.0</td>\n",
       "      <td>4.50</td>\n",
       "      <td>2005</td>\n",
       "      <td>9.0</td>\n",
       "      <td>40.036944</td>\n",
       "      <td>-121.005833</td>\n",
       "    </tr>\n",
       "    <tr>\n",
       "      <th>1</th>\n",
       "      <td>5</td>\n",
       "      <td>4.0</td>\n",
       "      <td>6.75</td>\n",
       "      <td>2004</td>\n",
       "      <td>1.0</td>\n",
       "      <td>38.933056</td>\n",
       "      <td>-120.404444</td>\n",
       "    </tr>\n",
       "    <tr>\n",
       "      <th>2</th>\n",
       "      <td>5</td>\n",
       "      <td>4.0</td>\n",
       "      <td>1.05</td>\n",
       "      <td>2004</td>\n",
       "      <td>5.0</td>\n",
       "      <td>38.984167</td>\n",
       "      <td>-120.735556</td>\n",
       "    </tr>\n",
       "    <tr>\n",
       "      <th>3</th>\n",
       "      <td>6</td>\n",
       "      <td>4.0</td>\n",
       "      <td>118.00</td>\n",
       "      <td>2004</td>\n",
       "      <td>1.0</td>\n",
       "      <td>38.559167</td>\n",
       "      <td>-119.913333</td>\n",
       "    </tr>\n",
       "    <tr>\n",
       "      <th>4</th>\n",
       "      <td>6</td>\n",
       "      <td>4.0</td>\n",
       "      <td>116.00</td>\n",
       "      <td>2004</td>\n",
       "      <td>1.0</td>\n",
       "      <td>38.559167</td>\n",
       "      <td>-119.933056</td>\n",
       "    </tr>\n",
       "  </tbody>\n",
       "</table>\n",
       "</div>"
      ],
      "text/plain": [
       "   DISCOVERY_DATETIME  STATE  TIME_TO_CONT  FIRE_YEAR  STAT_CAUSE_CODE  \\\n",
       "0                   2    4.0          4.50       2005              9.0   \n",
       "1                   5    4.0          6.75       2004              1.0   \n",
       "2                   5    4.0          1.05       2004              5.0   \n",
       "3                   6    4.0        118.00       2004              1.0   \n",
       "4                   6    4.0        116.00       2004              1.0   \n",
       "\n",
       "    LATITUDE   LONGITUDE  \n",
       "0  40.036944 -121.005833  \n",
       "1  38.933056 -120.404444  \n",
       "2  38.984167 -120.735556  \n",
       "3  38.559167 -119.913333  \n",
       "4  38.559167 -119.933056  "
      ]
     },
     "execution_count": 7,
     "metadata": {},
     "output_type": "execute_result"
    }
   ],
   "source": [
    "X.head()"
   ]
  },
  {
   "cell_type": "code",
   "execution_count": 8,
   "metadata": {},
   "outputs": [],
   "source": [
    "X_train, X_test, y_train, y_test = train_test_split(X, y, test_size=0.33, random_state=20)"
   ]
  },
  {
   "cell_type": "code",
   "execution_count": 9,
   "metadata": {},
   "outputs": [
    {
     "name": "stdout",
     "output_type": "stream",
     "text": [
      "0.998142707029603\n",
      "0.5902474156059015\n"
     ]
    }
   ],
   "source": [
    "clf = DecisionTreeClassifier(random_state=0)\n",
    "clf = clf.fit(X_train, y_train)\n",
    "y_train_predict = clf.predict(X_train)\n",
    "y_test_predict = clf.predict(X_test)\n",
    "print(accuracy_score(y_train, y_train_predict))\n",
    "print(accuracy_score(y_test, y_test_predict))"
   ]
  },
  {
   "cell_type": "code",
   "execution_count": 10,
   "metadata": {},
   "outputs": [],
   "source": [
    "md = [1, 2, 4,8, 16, 32, 64]\n",
    "rand_state = [1, 2, 3, 4, 5]"
   ]
  },
  {
   "cell_type": "code",
   "execution_count": 11,
   "metadata": {},
   "outputs": [],
   "source": [
    "clf = DecisionTreeClassifier(random_state=0)"
   ]
  },
  {
   "cell_type": "code",
   "execution_count": 12,
   "metadata": {},
   "outputs": [],
   "source": [
    "import numpy as np\n",
    "\n",
    "train_accuracy = []\n",
    "test_accuracy = []\n",
    "\n",
    "for i in md:\n",
    "    ta = []\n",
    "    tsa = []\n",
    "    for j in rand_state:\n",
    "        X_train, X_test, y_train, y_test = train_test_split(X, y, test_size=0.33, random_state=j)\n",
    "        clf = DecisionTreeClassifier(random_state=0, max_depth=i)\n",
    "        clf = clf.fit(X_train, y_train)\n",
    "        y_train_predict = clf.predict(X_train)\n",
    "        y_test_predict = clf.predict(X_test)\n",
    "        ta.append((accuracy_score(y_train, y_train_predict)))\n",
    "        tsa.append((accuracy_score(y_test, y_test_predict)))\n",
    "    train_accuracy.append(ta)\n",
    "    test_accuracy.append(tsa)"
   ]
  },
  {
   "cell_type": "code",
   "execution_count": 13,
   "metadata": {},
   "outputs": [],
   "source": [
    "train_mean = np.mean(train_accuracy,1)\n",
    "train_std = np.std(train_accuracy, 1)"
   ]
  },
  {
   "cell_type": "code",
   "execution_count": 14,
   "metadata": {},
   "outputs": [],
   "source": [
    "test_mean = np.mean(test_accuracy, 1)\n",
    "test_std = np.std(test_accuracy, 1)"
   ]
  },
  {
   "cell_type": "code",
   "execution_count": null,
   "metadata": {},
   "outputs": [],
   "source": []
  },
  {
   "cell_type": "code",
   "execution_count": 15,
   "metadata": {},
   "outputs": [
    {
     "data": {
      "text/plain": [
       "<matplotlib.legend.Legend at 0x7f976f096ac8>"
      ]
     },
     "execution_count": 15,
     "metadata": {},
     "output_type": "execute_result"
    },
    {
     "data": {
      "image/png": "[encoded data removed]",
      "text/plain": [
       "<Figure size 720x360 with 1 Axes>"
      ]
     },
     "metadata": {
      "needs_background": "light"
     },
     "output_type": "display_data"
    }
   ],
   "source": [
    "plt.figure(figsize=(10,5))\n",
    "\n",
    "plt.errorbar(md, train_mean, yerr=train_std, linestyle='dashed', marker='^', label='Training Accuracy')\n",
    "plt.errorbar(md, test_mean, yerr=test_std, linestyle='dashed', marker='o', label='Testing Accuracy')\n",
    "plt.title('Training and Testing Accuracy as a Function of Decision Tree Max Depth')\n",
    "plt.ylabel('Accuracy')\n",
    "plt.xlabel('Max Depth')\n",
    "plt.xticks(md, md)\n",
    "plt.legend()"
   ]
  },
  {
   "cell_type": "markdown",
   "metadata": {},
   "source": [
    "## Try again, with data that has outliers removed"
   ]
  },
  {
   "cell_type": "code",
   "execution_count": 16,
   "metadata": {},
   "outputs": [],
   "source": [
    "data = pd.read_pickle('final_data_without_outliers.pkl')"
   ]
  },
  {
   "cell_type": "code",
   "execution_count": null,
   "metadata": {},
   "outputs": [],
   "source": []
  },
  {
   "cell_type": "code",
   "execution_count": 17,
   "metadata": {},
   "outputs": [],
   "source": [
    "y = data['FIRE_SIZE_CLASS']\n",
    "X = data.drop(columns=['FIRE_SIZE_CLASS', 'DISCOVERY_TIME', 'DISCOVERY_DATETIME'])"
   ]
  },
  {
   "cell_type": "code",
   "execution_count": 18,
   "metadata": {},
   "outputs": [
    {
     "data": {
      "text/html": [
       "<div>\n",
       "<style scoped>\n",
       "    .dataframe tbody tr th:only-of-type {\n",
       "        vertical-align: middle;\n",
       "    }\n",
       "\n",
       "    .dataframe tbody tr th {\n",
       "        vertical-align: top;\n",
       "    }\n",
       "\n",
       "    .dataframe thead th {\n",
       "        text-align: right;\n",
       "    }\n",
       "</style>\n",
       "<table border=\"1\" class=\"dataframe\">\n",
       "  <thead>\n",
       "    <tr style=\"text-align: right;\">\n",
       "      <th></th>\n",
       "      <th>STAT_CAUSE_CODE</th>\n",
       "      <th>LONGITUDE</th>\n",
       "      <th>LATITUDE</th>\n",
       "      <th>CONT_TIME</th>\n",
       "      <th>FIRE_YEAR</th>\n",
       "      <th>STATE_CODE</th>\n",
       "      <th>HOURS_TO_CONT</th>\n",
       "    </tr>\n",
       "  </thead>\n",
       "  <tbody>\n",
       "    <tr>\n",
       "      <th>0</th>\n",
       "      <td>9.0</td>\n",
       "      <td>-121.005833</td>\n",
       "      <td>40.036944</td>\n",
       "      <td>1730</td>\n",
       "      <td>2005</td>\n",
       "      <td>0</td>\n",
       "      <td>4</td>\n",
       "    </tr>\n",
       "    <tr>\n",
       "      <th>1</th>\n",
       "      <td>1.0</td>\n",
       "      <td>-120.404444</td>\n",
       "      <td>38.933056</td>\n",
       "      <td>1530</td>\n",
       "      <td>2004</td>\n",
       "      <td>0</td>\n",
       "      <td>7</td>\n",
       "    </tr>\n",
       "    <tr>\n",
       "      <th>2</th>\n",
       "      <td>5.0</td>\n",
       "      <td>-120.735556</td>\n",
       "      <td>38.984167</td>\n",
       "      <td>2024</td>\n",
       "      <td>2004</td>\n",
       "      <td>0</td>\n",
       "      <td>1</td>\n",
       "    </tr>\n",
       "    <tr>\n",
       "      <th>3</th>\n",
       "      <td>1.0</td>\n",
       "      <td>-119.913333</td>\n",
       "      <td>38.559167</td>\n",
       "      <td>1400</td>\n",
       "      <td>2004</td>\n",
       "      <td>0</td>\n",
       "      <td>118</td>\n",
       "    </tr>\n",
       "    <tr>\n",
       "      <th>4</th>\n",
       "      <td>1.0</td>\n",
       "      <td>-119.933056</td>\n",
       "      <td>38.559167</td>\n",
       "      <td>1200</td>\n",
       "      <td>2004</td>\n",
       "      <td>0</td>\n",
       "      <td>116</td>\n",
       "    </tr>\n",
       "  </tbody>\n",
       "</table>\n",
       "</div>"
      ],
      "text/plain": [
       "   STAT_CAUSE_CODE   LONGITUDE   LATITUDE  CONT_TIME  FIRE_YEAR  STATE_CODE  \\\n",
       "0              9.0 -121.005833  40.036944       1730       2005           0   \n",
       "1              1.0 -120.404444  38.933056       1530       2004           0   \n",
       "2              5.0 -120.735556  38.984167       2024       2004           0   \n",
       "3              1.0 -119.913333  38.559167       1400       2004           0   \n",
       "4              1.0 -119.933056  38.559167       1200       2004           0   \n",
       "\n",
       "   HOURS_TO_CONT  \n",
       "0              4  \n",
       "1              7  \n",
       "2              1  \n",
       "3            118  \n",
       "4            116  "
      ]
     },
     "execution_count": 18,
     "metadata": {},
     "output_type": "execute_result"
    }
   ],
   "source": [
    "X.head()"
   ]
  },
  {
   "cell_type": "code",
   "execution_count": 19,
   "metadata": {},
   "outputs": [],
   "source": [
    "md = [1, 2, 4,8, 16, 32, 64]\n",
    "rand_state = [1, 2, 3, 4, 5]"
   ]
  },
  {
   "cell_type": "code",
   "execution_count": 20,
   "metadata": {},
   "outputs": [],
   "source": [
    "import numpy as np\n",
    "\n",
    "train_accuracy = []\n",
    "test_accuracy = []\n",
    "\n",
    "for i in md:\n",
    "    ta = []\n",
    "    tsa = []\n",
    "    for j in rand_state:\n",
    "        X_train, X_test, y_train, y_test = train_test_split(X, y, test_size=0.33, random_state=j)\n",
    "        clf = DecisionTreeClassifier(random_state=j, max_depth=i)\n",
    "        clf = clf.fit(X_train, y_train)\n",
    "        y_train_predict = clf.predict(X_train)\n",
    "        y_test_predict = clf.predict(X_test)\n",
    "        ta.append((accuracy_score(y_train, y_train_predict)))\n",
    "        tsa.append((accuracy_score(y_test, y_test_predict)))\n",
    "    train_accuracy.append(ta)\n",
    "    test_accuracy.append(tsa)"
   ]
  },
  {
   "cell_type": "code",
   "execution_count": 21,
   "metadata": {},
   "outputs": [
    {
     "data": {
      "text/plain": [
       "[[0.5763562392280546,\n",
       "  0.5770228645795822,\n",
       "  0.5767464997981699,\n",
       "  0.5764868843974494,\n",
       "  0.5766778273373342],\n",
       " [0.5763562392280546,\n",
       "  0.5770228645795822,\n",
       "  0.5767464997981699,\n",
       "  0.5764868843974494,\n",
       "  0.5766778273373342],\n",
       " [0.5917773940308557,\n",
       "  0.5924557439488675,\n",
       "  0.5917589697120949,\n",
       "  0.5919398630235647,\n",
       "  0.5918762153769365],\n",
       " [0.6316459448911876,\n",
       "  0.6329641211516204,\n",
       "  0.631161887789199,\n",
       "  0.6315487984831761,\n",
       "  0.6310061185487666],\n",
       " [0.7198599081798951,\n",
       "  0.718660652522373,\n",
       "  0.7182636921999809,\n",
       "  0.7189202679230935,\n",
       "  0.7196773399303561],\n",
       " [0.9817046514705119,\n",
       "  0.9821585596872555,\n",
       "  0.9829106068803106,\n",
       "  0.9820547135269674,\n",
       "  0.9821367854923564],\n",
       " [0.9992328783643225,\n",
       "  0.9992630272495674,\n",
       "  0.9992613523114983,\n",
       "  0.9992462778688758,\n",
       "  0.9992714019399133]]"
      ]
     },
     "execution_count": 21,
     "metadata": {},
     "output_type": "execute_result"
    }
   ],
   "source": [
    "train_accuracy"
   ]
  },
  {
   "cell_type": "code",
   "execution_count": 33,
   "metadata": {},
   "outputs": [],
   "source": [
    "train_mean = np.mean(train_accuracy,1)\n",
    "train_std = np.std(train_accuracy, 1)\n",
    "test_mean = np.mean(test_accuracy, 1)\n",
    "test_std = np.std(test_accuracy, 1)"
   ]
  },
  {
   "cell_type": "code",
   "execution_count": 34,
   "metadata": {},
   "outputs": [
    {
     "name": "stdout",
     "output_type": "stream",
     "text": [
      "[0.57730086 0.57730086 0.5923248  0.62993974 0.64312191 0.58175159\n",
      " 0.57650375]\n"
     ]
    }
   ],
   "source": [
    "print(test_mean)"
   ]
  },
  {
   "cell_type": "code",
   "execution_count": 35,
   "metadata": {},
   "outputs": [
    {
     "name": "stdout",
     "output_type": "stream",
     "text": [
      "[0.00046404 0.00046404 0.00049495 0.00084628 0.00050873 0.00139556\n",
      " 0.0006756 ]\n"
     ]
    }
   ],
   "source": [
    "print(test_std) "
   ]
  },
  {
   "cell_type": "code",
   "execution_count": 23,
   "metadata": {},
   "outputs": [
    {
     "data": {
      "text/plain": [
       "<matplotlib.legend.Legend at 0x7f976eccb6a0>"
      ]
     },
     "execution_count": 23,
     "metadata": {},
     "output_type": "execute_result"
    },
    {
     "data": {
      "image/png": "[encoded data removed]",
      "text/plain": [
       "<Figure size 720x360 with 1 Axes>"
      ]
     },
     "metadata": {
      "needs_background": "light"
     },
     "output_type": "display_data"
    }
   ],
   "source": [
    "plt.figure(figsize=(10,5))\n",
    "\n",
    "plt.errorbar(md, train_mean, yerr=train_std, linestyle='dashed', marker='^', label='Training Accuracy')\n",
    "plt.errorbar(md, test_mean, yerr=test_std, linestyle='dashed', marker='o', label='Testing Accuracy')\n",
    "plt.title('Training and Testing Accuracy as a Function of Decision Tree Max Depth')\n",
    "plt.ylabel('Accuracy')\n",
    "plt.xlabel('Max Depth')\n",
    "plt.xticks(md, md)\n",
    "plt.legend()"
   ]
  },
  {
   "cell_type": "markdown",
   "metadata": {},
   "source": [
    "## Conclusion, removing outliers has little impact on this specific measure"
   ]
  },
  {
   "cell_type": "markdown",
   "metadata": {},
   "source": [
    "## Try more detailed look at tree depth"
   ]
  },
  {
   "cell_type": "code",
   "execution_count": 36,
   "metadata": {},
   "outputs": [],
   "source": [
    "md = [8, 9, 10, 11, 12, 13, 14, 15, 16, 17, 18, 19, 20]\n",
    "rand_state = [1, 2, 3, 4, 5]"
   ]
  },
  {
   "cell_type": "code",
   "execution_count": 37,
   "metadata": {},
   "outputs": [],
   "source": [
    "import numpy as np\n",
    "\n",
    "train_accuracy = []\n",
    "test_accuracy = []\n",
    "\n",
    "for i in md:\n",
    "    ta = []\n",
    "    tsa = []\n",
    "    for j in rand_state:\n",
    "        X_train, X_test, y_train, y_test = train_test_split(X, y, test_size=0.33, random_state=j)\n",
    "        clf = DecisionTreeClassifier(random_state=j, max_depth=i)\n",
    "        clf = clf.fit(X_train, y_train)\n",
    "        y_train_predict = clf.predict(X_train)\n",
    "        y_test_predict = clf.predict(X_test)\n",
    "        ta.append((accuracy_score(y_train, y_train_predict)))\n",
    "        tsa.append((accuracy_score(y_test, y_test_predict)))\n",
    "    train_accuracy.append(ta)\n",
    "    test_accuracy.append(tsa)"
   ]
  },
  {
   "cell_type": "code",
   "execution_count": 38,
   "metadata": {},
   "outputs": [],
   "source": [
    "train_mean = np.mean(train_accuracy,1)\n",
    "train_std = np.std(train_accuracy, 1)\n",
    "test_mean = np.mean(test_accuracy, 1)\n",
    "test_std = np.std(test_accuracy, 1)"
   ]
  },
  {
   "cell_type": "code",
   "execution_count": 39,
   "metadata": {},
   "outputs": [
    {
     "name": "stdout",
     "output_type": "stream",
     "text": [
      "[0.62993974 0.6352828  0.64059184 0.64355378 0.64584648 0.64677757\n",
      " 0.6467973  0.6455894  0.64312191 0.63975529 0.63562354 0.63081642\n",
      " 0.62555906]\n",
      "[0.00084628 0.00061345 0.00033152 0.000211   0.00043588 0.00054847\n",
      " 0.00044928 0.00032524 0.00050873 0.00037066 0.00038728 0.00066796\n",
      " 0.00094652]\n"
     ]
    }
   ],
   "source": [
    "print(test_mean)\n",
    "print(test_std)\n",
    "\n"
   ]
  },
  {
   "cell_type": "code",
   "execution_count": null,
   "metadata": {},
   "outputs": [],
   "source": [
    "plt.figure(figsize=(10,5))\n",
    "\n",
    "plt.errorbar(md, train_mean, yerr=train_std, linestyle='dashed', marker='^', label='Training Accuracy')\n",
    "plt.errorbar(md, test_mean, yerr=test_std, linestyle='dashed', marker='o', label='Testing Accuracy')\n",
    "plt.title('Training and Testing Accuracy as a Function of Decision Tree Max Depth')\n",
    "plt.ylabel('Accuracy')\n",
    "plt.xlabel('Max Depth')\n",
    "plt.xticks(md, md)\n",
    "plt.legend()"
   ]
  },
  {
   "cell_type": "markdown",
   "metadata": {},
   "source": [
    "## Try with random forest"
   ]
  },
  {
   "cell_type": "code",
   "execution_count": 10,
   "metadata": {},
   "outputs": [],
   "source": [
    "from sklearn.ensemble import RandomForestClassifier"
   ]
  },
  {
   "cell_type": "code",
   "execution_count": 26,
   "metadata": {},
   "outputs": [
    {
     "name": "stderr",
     "output_type": "stream",
     "text": [
      "/Applications/anaconda3/lib/python3.6/site-packages/sklearn/ensemble/forest.py:246: FutureWarning: The default value of n_estimators will change from 10 in version 0.20 to 100 in 0.22.\n",
      "  \"10 in version 0.20 to 100 in 0.22.\", FutureWarning)\n",
      "/Applications/anaconda3/lib/python3.6/site-packages/sklearn/ensemble/forest.py:246: FutureWarning: The default value of n_estimators will change from 10 in version 0.20 to 100 in 0.22.\n",
      "  \"10 in version 0.20 to 100 in 0.22.\", FutureWarning)\n",
      "/Applications/anaconda3/lib/python3.6/site-packages/sklearn/ensemble/forest.py:246: FutureWarning: The default value of n_estimators will change from 10 in version 0.20 to 100 in 0.22.\n",
      "  \"10 in version 0.20 to 100 in 0.22.\", FutureWarning)\n",
      "/Applications/anaconda3/lib/python3.6/site-packages/sklearn/ensemble/forest.py:246: FutureWarning: The default value of n_estimators will change from 10 in version 0.20 to 100 in 0.22.\n",
      "  \"10 in version 0.20 to 100 in 0.22.\", FutureWarning)\n",
      "/Applications/anaconda3/lib/python3.6/site-packages/sklearn/ensemble/forest.py:246: FutureWarning: The default value of n_estimators will change from 10 in version 0.20 to 100 in 0.22.\n",
      "  \"10 in version 0.20 to 100 in 0.22.\", FutureWarning)\n"
     ]
    }
   ],
   "source": [
    "\n",
    "ta = []\n",
    "tsa = []\n",
    "for j in rand_state:\n",
    "    X_train, X_test, y_train, y_test = train_test_split(X, y, test_size=0.33, random_state=j)\n",
    "    clf = RandomForestClassifier()\n",
    "    clf = clf.fit(X_train, y_train)\n",
    "    y_train_predict = clf.predict(X_train)\n",
    "    y_test_predict = clf.predict(X_test)\n",
    "    ta.append((accuracy_score(y_train, y_train_predict)))\n",
    "    tsa.append((accuracy_score(y_test, y_test_predict)))\n"
   ]
  },
  {
   "cell_type": "code",
   "execution_count": 28,
   "metadata": {},
   "outputs": [
    {
     "data": {
      "text/plain": [
       "[0.9792190433758712,\n",
       " 0.9793848622447185,\n",
       " 0.9794066364396177,\n",
       " 0.9795071327237675,\n",
       " 0.9795473312374275]"
      ]
     },
     "execution_count": 28,
     "metadata": {},
     "output_type": "execute_result"
    }
   ],
   "source": [
    "ta"
   ]
  },
  {
   "cell_type": "code",
   "execution_count": 29,
   "metadata": {},
   "outputs": [],
   "source": [
    "train_mean = np.mean(ta)\n",
    "train_std = np.std(ta)\n",
    "test_mean = np.mean(tsa)\n",
    "test_std = np.std(tsa)"
   ]
  },
  {
   "cell_type": "code",
   "execution_count": 32,
   "metadata": {},
   "outputs": [
    {
     "name": "stdout",
     "output_type": "stream",
     "text": [
      "0.9794130012042805\n",
      "0.00011433044322657766\n",
      "0.6433143805430112\n",
      "0.0007531544046529185\n"
     ]
    }
   ],
   "source": [
    "print(train_mean)\n",
    "print(train_std)\n",
    "print(test_mean)\n",
    "print(test_std)"
   ]
  },
  {
   "cell_type": "code",
   "execution_count": 42,
   "metadata": {},
   "outputs": [],
   "source": [
    "md = [5, 10, 50, 100]\n",
    "rand_state = [1, 2, 3, 4, 5]\n",
    "import numpy as np\n",
    "\n",
    "train_accuracy = []\n",
    "test_accuracy = []\n",
    "\n",
    "for i in md:\n",
    "    ta = []\n",
    "    tsa = []\n",
    "    for j in rand_state:\n",
    "        X_train, X_test, y_train, y_test = train_test_split(X, y, test_size=0.33, random_state=j)\n",
    "        clf = RandomForestClassifier(n_estimators=i, max_depth=14)\n",
    "        clf = clf.fit(X_train, y_train)\n",
    "        y_train_predict = clf.predict(X_train)\n",
    "        y_test_predict = clf.predict(X_test)\n",
    "        ta.append((accuracy_score(y_train, y_train_predict)))\n",
    "        tsa.append((accuracy_score(y_test, y_test_predict)))\n",
    "    train_accuracy.append(ta)\n",
    "    test_accuracy.append(tsa)"
   ]
  },
  {
   "cell_type": "code",
   "execution_count": 46,
   "metadata": {},
   "outputs": [
    {
     "data": {
      "text/plain": [
       "[[0.6910090999385298,\n",
       "  0.6920391868510661,\n",
       "  0.6928130082390204,\n",
       "  0.691357487056916,\n",
       "  0.6921731818965994],\n",
       " [0.6965481201332581,\n",
       "  0.694169708075044,\n",
       "  0.6961896833864568,\n",
       "  0.6944092242189345,\n",
       "  0.6966737404884454],\n",
       " [0.6985027728599735,\n",
       "  0.6977858993663709,\n",
       "  0.6996919788890805,\n",
       "  0.7004825496577264,\n",
       "  0.7001643114245851],\n",
       " [0.6999214454045561,\n",
       "  0.6995764081623081,\n",
       "  0.6996903039510114,\n",
       "  0.7005863958180146,\n",
       "  0.7003083560985333]]"
      ]
     },
     "execution_count": 46,
     "metadata": {},
     "output_type": "execute_result"
    }
   ],
   "source": [
    "train_accuracy"
   ]
  },
  {
   "cell_type": "code",
   "execution_count": null,
   "metadata": {},
   "outputs": [],
   "source": []
  },
  {
   "cell_type": "code",
   "execution_count": 47,
   "metadata": {},
   "outputs": [],
   "source": [
    "train_mean = np.mean(train_accuracy, 1)\n",
    "train_std = np.std(train_accuracy, 1)\n",
    "test_mean = np.mean(test_accuracy, 1)\n",
    "test_std = np.std(test_accuracy, 1)"
   ]
  },
  {
   "cell_type": "code",
   "execution_count": null,
   "metadata": {},
   "outputs": [],
   "source": []
  },
  {
   "cell_type": "code",
   "execution_count": 48,
   "metadata": {},
   "outputs": [
    {
     "data": {
      "text/plain": [
       "<matplotlib.legend.Legend at 0x7f97503fe2b0>"
      ]
     },
     "execution_count": 48,
     "metadata": {},
     "output_type": "execute_result"
    },
    {
     "data": {
      "image/png": "[encoded data removed]",
      "text/plain": [
       "<Figure size 720x360 with 1 Axes>"
      ]
     },
     "metadata": {
      "needs_background": "light"
     },
     "output_type": "display_data"
    }
   ],
   "source": [
    "plt.figure(figsize=(10,5))\n",
    "\n",
    "plt.errorbar(md, train_mean, yerr=train_std, linestyle='dashed', marker='^', label='Training Accuracy')\n",
    "plt.errorbar(md, test_mean, yerr=test_std, linestyle='dashed', marker='o', label='Testing Accuracy')\n",
    "plt.title('Training and Testing Accuracy as a Function of Random Forest # Estimators')\n",
    "plt.ylabel('Accuracy')\n",
    "plt.xlabel('Num Estimators')\n",
    "plt.xticks(md, md)\n",
    "plt.legend()"
   ]
  },
  {
   "cell_type": "code",
   "execution_count": 49,
   "metadata": {},
   "outputs": [
    {
     "name": "stderr",
     "output_type": "stream",
     "text": [
      "\n",
      "KeyboardInterrupt\n",
      "\n"
     ]
    }
   ],
   "source": [
    "y_test_predict = clf.predict(X_test)"
   ]
  },
  {
   "cell_type": "code",
   "execution_count": 50,
   "metadata": {},
   "outputs": [
    {
     "name": "stdout",
     "output_type": "stream",
     "text": [
      "[1 1 2 ... 2 2 2]\n"
     ]
    }
   ],
   "source": [
    "print(y_test_predict)"
   ]
  },
  {
   "cell_type": "code",
   "execution_count": 11,
   "metadata": {},
   "outputs": [],
   "source": [
    "md = [50]\n",
    "rand_state = [1, 2, 3, 4, 5]\n",
    "import numpy as np\n",
    "\n",
    "train_accuracy = []\n",
    "test_accuracy = []\n",
    "\n",
    "for i in md:\n",
    "    ta = []\n",
    "    tsa = []\n",
    "    for j in rand_state:\n",
    "        X_train, X_test, y_train, y_test = train_test_split(X, y, test_size=0.33, random_state=j)\n",
    "        clf = RandomForestClassifier(n_estimators=i, max_depth=14)\n",
    "        clf = clf.fit(X_train, y_train)\n",
    "        y_train_predict = clf.predict(X_train)\n",
    "        y_test_predict = clf.predict(X_test)\n",
    "        ta.append((accuracy_score(y_train, y_train_predict)))\n",
    "        tsa.append((accuracy_score(y_test, y_test_predict)))\n",
    "    train_accuracy.append(ta)\n",
    "    test_accuracy.append(tsa)\n",
    "    test_accuracy.append(tsa)"
   ]
  },
  {
   "cell_type": "code",
   "execution_count": 12,
   "metadata": {},
   "outputs": [],
   "source": [
    "train_mean = np.mean(train_accuracy, 1)\n",
    "train_std = np.std(train_accuracy, 1)\n",
    "test_mean = np.mean(test_accuracy, 1)\n",
    "test_std = np.std(test_accuracy, 1)"
   ]
  },
  {
   "cell_type": "code",
   "execution_count": 13,
   "metadata": {},
   "outputs": [
    {
     "name": "stdout",
     "output_type": "stream",
     "text": [
      "[0.70912215]\n",
      "[0.00035669]\n",
      "[0.67265451 0.67265451]\n",
      "[0.00080143 0.00080143]\n"
     ]
    }
   ],
   "source": [
    "print(train_mean)\n",
    "print(train_std)\n",
    "print(test_mean)\n",
    "print(test_std)"
   ]
  },
  {
   "cell_type": "code",
   "execution_count": 9,
   "metadata": {},
   "outputs": [],
   "source": [
    "from sklearn.metrics import roc_curve, auc\n",
    "from sklearn.ensemble import RandomForestClassifier\n",
    "import numpy as np"
   ]
  },
  {
   "cell_type": "code",
   "execution_count": 11,
   "metadata": {},
   "outputs": [],
   "source": [
    "X_train, X_test, y_train, y_test = train_test_split(X, y, test_size=0.33, random_state=20)\n",
    "clf = RandomForestClassifier(n_estimators=50, max_depth=14)\n",
    "clf = clf.fit(X_train, y_train)\n",
    "y_train_predict = clf.predict(X_train)\n",
    "y_test_predict = clf.predict(X_test)\n"
   ]
  },
  {
   "cell_type": "code",
   "execution_count": 39,
   "metadata": {},
   "outputs": [
    {
     "name": "stdout",
     "output_type": "stream",
     "text": [
      "[279964, 282467, 32080, 796, 706, 666, 965]\n"
     ]
    },
    {
     "data": {
      "image/png": "[encoded data removed]",
      "text/plain": [
       "<Figure size 360x576 with 1 Axes>"
      ]
     },
     "metadata": {
      "needs_background": "light"
     },
     "output_type": "display_data"
    }
   ],
   "source": [
    "import collections\n",
    "w = 0.3;\n",
    "lab = [\"A\", \"B\", \"C\", \"D\", \"E\", \"F\", \"G\"]\n",
    "c = collections.Counter(np.array(y_train))\n",
    "c = sorted(c.items())\n",
    "nnum = [i[0] for i in c]\n",
    "freq = [i[1] for i in c]\n",
    "f, ax = plt.subplots(figsize=(5,8))\n",
    "plt.bar(nnum, freq, label=\"actual\") \n",
    "\n",
    "\n",
    "c = collections.Counter(np.array(y_train_predict))\n",
    "c = sorted(c.items())\n",
    "nnum = [i[0] for i in c]\n",
    "freq = [i[1] for i in c]\n",
    "plt.bar(nnum, freq, label=\"predicted\", edgecolor=\"orange\", hatch='\\\\', fill=False) \n",
    "\n",
    "plt.title('Frequency of Training Fire Size Class Labels')\n",
    "plt.ylabel('Count')\n",
    "plt.xlabel('Size Class')\n",
    "plt.xticks(range(1,8), lab)\n",
    "plt.legend()\n",
    "print(freq)\n"
   ]
  },
  {
   "cell_type": "code",
   "execution_count": 41,
   "metadata": {},
   "outputs": [
    {
     "name": "stdout",
     "output_type": "stream",
     "text": [
      "[137786, 140133, 15426, 244, 206, 213, 355]\n"
     ]
    },
    {
     "data": {
      "image/png": "[encoded data removed]",
      "text/plain": [
       "<Figure size 360x576 with 1 Axes>"
      ]
     },
     "metadata": {
      "needs_background": "light"
     },
     "output_type": "display_data"
    }
   ],
   "source": [
    "import collections\n",
    "w = 0.3;\n",
    "lab = [\"A\", \"B\", \"C\", \"D\", \"E\", \"F\", \"G\"]\n",
    "c = collections.Counter(np.array(y_test))\n",
    "c = sorted(c.items())\n",
    "nnum = [i[0] for i in c]\n",
    "freq = [i[1] for i in c]\n",
    "f, ax = plt.subplots(figsize=(5,8))\n",
    "plt.bar(nnum, freq, label=\"actual\") \n",
    "\n",
    "\n",
    "c = collections.Counter(np.array(y_test_predict))\n",
    "c = sorted(c.items())\n",
    "nnum = [i[0] for i in c]\n",
    "freq = [i[1] for i in c]\n",
    "plt.bar(nnum, freq, label=\"predicted\", edgecolor=\"orange\", hatch='\\\\', fill=False) \n",
    "\n",
    "plt.title('Frequency of Test Fire Size Class Labels')\n",
    "plt.ylabel('Count')\n",
    "plt.xlabel('Size Class')\n",
    "plt.xticks(range(1,8), lab)\n",
    "plt.legend()\n",
    "print(freq)\n"
   ]
  },
  {
   "cell_type": "code",
   "execution_count": 23,
   "metadata": {},
   "outputs": [
    {
     "data": {
      "text/plain": [
       "([<matplotlib.axis.XTick at 0x7f9ace0afc18>,\n",
       "  <matplotlib.axis.XTick at 0x7f9ace0af588>,\n",
       "  <matplotlib.axis.XTick at 0x7f9ace0af2b0>,\n",
       "  <matplotlib.axis.XTick at 0x7f9ace4d22e8>,\n",
       "  <matplotlib.axis.XTick at 0x7f9ace4d27b8>,\n",
       "  <matplotlib.axis.XTick at 0x7f9ace4d2c88>,\n",
       "  <matplotlib.axis.XTick at 0x7f9ace4db198>],\n",
       " <a list of 7 Text xticklabel objects>)"
      ]
     },
     "execution_count": 23,
     "metadata": {},
     "output_type": "execute_result"
    },
    {
     "data": {
      "image/png": "[encoded data removed]",
      "text/plain": [
       "<Figure size 432x288 with 1 Axes>"
      ]
     },
     "metadata": {
      "needs_background": "light"
     },
     "output_type": "display_data"
    }
   ],
   "source": [
    "lab = [\"A\", \"B\", \"C\", \"D\", \"E\", \"F\", \"G\"]\n",
    "c = collections.Counter(np.array(y_test))\n",
    "c = sorted(c.items())\n",
    "nnum = [i[0] for i in c]\n",
    "freq = [i[1] for i in c]\n",
    "f, ax = plt.subplots()\n",
    "plt.bar(nnum, freq) \n",
    "plt.title('Frequency of Test Fire Size Class Labels (Actual)')\n",
    "plt.ylabel('Count')\n",
    "plt.xlabel('Size Class')\n",
    "plt.xticks(range(1,8), lab)"
   ]
  },
  {
   "cell_type": "code",
   "execution_count": 24,
   "metadata": {
    "scrolled": true
   },
   "outputs": [
    {
     "data": {
      "text/plain": [
       "([<matplotlib.axis.XTick at 0x7f9ace50ba90>,\n",
       "  <matplotlib.axis.XTick at 0x7f9ace50b400>,\n",
       "  <matplotlib.axis.XTick at 0x7f9ace50b2b0>,\n",
       "  <matplotlib.axis.XTick at 0x7f9ace6bb198>,\n",
       "  <matplotlib.axis.XTick at 0x7f9ace6bb630>,\n",
       "  <matplotlib.axis.XTick at 0x7f9ace6bbb00>,\n",
       "  <matplotlib.axis.XTick at 0x7f9ace6bbd30>],\n",
       " <a list of 7 Text xticklabel objects>)"
      ]
     },
     "execution_count": 24,
     "metadata": {},
     "output_type": "execute_result"
    },
    {
     "data": {
      "image/png": "[encoded data removed]",
      "text/plain": [
       "<Figure size 432x288 with 1 Axes>"
      ]
     },
     "metadata": {
      "needs_background": "light"
     },
     "output_type": "display_data"
    }
   ],
   "source": [
    "lab = [\"A\", \"B\", \"C\", \"D\", \"E\", \"F\", \"G\"]\n",
    "c = collections.Counter(np.array(y_test_predict))\n",
    "c = sorted(c.items())\n",
    "nnum = [i[0] for i in c]\n",
    "freq = [i[1] for i in c]\n",
    "f, ax = plt.subplots()\n",
    "plt.bar(nnum, freq) \n",
    "plt.title('Frequency of Test Fire Size Class Labels (Predicted)')\n",
    "plt.ylabel('Count')\n",
    "plt.xlabel('Size Class')\n",
    "plt.xticks(range(1,8), lab)"
   ]
  },
  {
   "cell_type": "code",
   "execution_count": 44,
   "metadata": {},
   "outputs": [],
   "source": [
    "y_test = np.array(y_test)"
   ]
  },
  {
   "cell_type": "code",
   "execution_count": 45,
   "metadata": {},
   "outputs": [],
   "source": [
    "y_train = np.array(y_train)"
   ]
  },
  {
   "cell_type": "code",
   "execution_count": 61,
   "metadata": {},
   "outputs": [
    {
     "data": {
      "text/plain": [
       "array([ True,  True, False, ..., False,  True, False])"
      ]
     },
     "execution_count": 61,
     "metadata": {},
     "output_type": "execute_result"
    }
   ],
   "source": [
    "y_test_predict[y_test == 1] == 1"
   ]
  },
  {
   "cell_type": "code",
   "execution_count": 76,
   "metadata": {},
   "outputs": [],
   "source": [
    "from sklearn.metrics import precision_score\n",
    "from sklearn.metrics import recall_score"
   ]
  },
  {
   "cell_type": "code",
   "execution_count": 80,
   "metadata": {},
   "outputs": [],
   "source": [
    "tp = [];\n",
    "# Compute true positives for each category\n",
    "for i in range(1,8):\n",
    "    yt = y_test[y_test == i]\n",
    "    ypr = y_test_predict[y_test == i]\n",
    "    tp.append(accuracy_score(yt, ypr))\n",
    "\n"
   ]
  },
  {
   "cell_type": "code",
   "execution_count": 83,
   "metadata": {},
   "outputs": [
    {
     "data": {
      "text/plain": [
       "([<matplotlib.axis.XTick at 0x7f9ad4f17da0>,\n",
       "  <matplotlib.axis.XTick at 0x7f9ad4f17748>,\n",
       "  <matplotlib.axis.XTick at 0x7f9ad4f17470>,\n",
       "  <matplotlib.axis.XTick at 0x7f9ad4fb90b8>,\n",
       "  <matplotlib.axis.XTick at 0x7f9ad4fb9518>,\n",
       "  <matplotlib.axis.XTick at 0x7f9ad4fb99e8>,\n",
       "  <matplotlib.axis.XTick at 0x7f9ad4fb9eb8>],\n",
       " <a list of 7 Text xticklabel objects>)"
      ]
     },
     "execution_count": 83,
     "metadata": {},
     "output_type": "execute_result"
    },
    {
     "data": {
      "image/png": "[encoded data removed]",
      "text/plain": [
       "<Figure size 432x288 with 1 Axes>"
      ]
     },
     "metadata": {
      "needs_background": "light"
     },
     "output_type": "display_data"
    }
   ],
   "source": [
    "lab = [\"A\", \"B\", \"C\", \"D\", \"E\", \"F\", \"G\"]\n",
    "\n",
    "f, ax = plt.subplots()\n",
    "plt.scatter(range(1,8), tp)\n",
    "plt.title('% True positive labels per label class')\n",
    "plt.ylabel('Percent')\n",
    "plt.xlabel('Fire Size Class')\n",
    "plt.xticks(range(1,8), lab)"
   ]
  },
  {
   "cell_type": "code",
   "execution_count": 71,
   "metadata": {},
   "outputs": [
    {
     "data": {
      "text/plain": [
       "{1: array([nan, nan, nan]),\n",
       " 2: array([nan, nan, nan]),\n",
       " 3: array([nan, nan, nan]),\n",
       " 4: array([nan, nan, nan]),\n",
       " 5: array([nan, nan, nan]),\n",
       " 6: array([nan, nan, nan]),\n",
       " 7: array([nan, nan, nan])}"
      ]
     },
     "execution_count": 71,
     "metadata": {},
     "output_type": "execute_result"
    }
   ],
   "source": [
    "fpr"
   ]
  },
  {
   "cell_type": "code",
   "execution_count": null,
   "metadata": {},
   "outputs": [],
   "source": []
  }
 ],
 "metadata": {
  "kernelspec": {
   "display_name": "Python 3",
   "language": "python",
   "name": "python3"
  },
  "language_info": {
   "codemirror_mode": {
    "name": "ipython",
    "version": 3
   },
   "file_extension": ".py",
   "mimetype": "text/x-python",
   "name": "python",
   "nbconvert_exporter": "python",
   "pygments_lexer": "ipython3",
   "version": "3.6.8"
  }
 },
 "nbformat": 4,
 "nbformat_minor": 2
}
