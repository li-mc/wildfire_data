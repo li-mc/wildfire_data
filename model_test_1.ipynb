{
 "cells": [
  {
   "cell_type": "code",
   "execution_count": 140,
   "metadata": {},
   "outputs": [],
   "source": [
    "import pandas as pd"
   ]
  },
  {
   "cell_type": "code",
   "execution_count": 141,
   "metadata": {},
   "outputs": [],
   "source": [
    "from sklearn.model_selection import train_test_split\n",
    "from sklearn.tree import DecisionTreeClassifier\n",
    "from sklearn.metrics import accuracy_score\n",
    "from sklearn import tree\n",
    "import sklearn\n",
    "import graphviz\n",
    "from matplotlib import pyplot as plt"
   ]
  },
  {
   "cell_type": "markdown",
   "metadata": {},
   "source": [
    "## Trying a model with the cleaned data, using FIRE_SIZE_CLASS as the label."
   ]
  },
  {
   "cell_type": "code",
   "execution_count": 142,
   "metadata": {},
   "outputs": [],
   "source": [
    "data = pd.read_pickle('final_dataset_1.pkl')\n"
   ]
  },
  {
   "cell_type": "code",
   "execution_count": 143,
   "metadata": {},
   "outputs": [
    {
     "data": {
      "text/html": [
       "<div>\n",
       "<style scoped>\n",
       "    .dataframe tbody tr th:only-of-type {\n",
       "        vertical-align: middle;\n",
       "    }\n",
       "\n",
       "    .dataframe tbody tr th {\n",
       "        vertical-align: top;\n",
       "    }\n",
       "\n",
       "    .dataframe thead th {\n",
       "        text-align: right;\n",
       "    }\n",
       "</style>\n",
       "<table border=\"1\" class=\"dataframe\">\n",
       "  <thead>\n",
       "    <tr style=\"text-align: right;\">\n",
       "      <th></th>\n",
       "      <th>DISCOVERY_DATETIME</th>\n",
       "      <th>STATE</th>\n",
       "      <th>TIME_TO_CONT</th>\n",
       "      <th>FIRE_YEAR</th>\n",
       "      <th>STAT_CAUSE_CODE</th>\n",
       "      <th>LATITUDE</th>\n",
       "      <th>LONGITUDE</th>\n",
       "      <th>FIRE_SIZE_CLASS</th>\n",
       "    </tr>\n",
       "  </thead>\n",
       "  <tbody>\n",
       "    <tr>\n",
       "      <th>0</th>\n",
       "      <td>2</td>\n",
       "      <td>4.0</td>\n",
       "      <td>4.50</td>\n",
       "      <td>2005</td>\n",
       "      <td>9.0</td>\n",
       "      <td>40.036944</td>\n",
       "      <td>-121.005833</td>\n",
       "      <td>1</td>\n",
       "    </tr>\n",
       "    <tr>\n",
       "      <th>1</th>\n",
       "      <td>5</td>\n",
       "      <td>4.0</td>\n",
       "      <td>6.75</td>\n",
       "      <td>2004</td>\n",
       "      <td>1.0</td>\n",
       "      <td>38.933056</td>\n",
       "      <td>-120.404444</td>\n",
       "      <td>1</td>\n",
       "    </tr>\n",
       "    <tr>\n",
       "      <th>2</th>\n",
       "      <td>5</td>\n",
       "      <td>4.0</td>\n",
       "      <td>1.05</td>\n",
       "      <td>2004</td>\n",
       "      <td>5.0</td>\n",
       "      <td>38.984167</td>\n",
       "      <td>-120.735556</td>\n",
       "      <td>1</td>\n",
       "    </tr>\n",
       "    <tr>\n",
       "      <th>3</th>\n",
       "      <td>6</td>\n",
       "      <td>4.0</td>\n",
       "      <td>118.00</td>\n",
       "      <td>2004</td>\n",
       "      <td>1.0</td>\n",
       "      <td>38.559167</td>\n",
       "      <td>-119.913333</td>\n",
       "      <td>1</td>\n",
       "    </tr>\n",
       "    <tr>\n",
       "      <th>4</th>\n",
       "      <td>6</td>\n",
       "      <td>4.0</td>\n",
       "      <td>116.00</td>\n",
       "      <td>2004</td>\n",
       "      <td>1.0</td>\n",
       "      <td>38.559167</td>\n",
       "      <td>-119.933056</td>\n",
       "      <td>1</td>\n",
       "    </tr>\n",
       "  </tbody>\n",
       "</table>\n",
       "</div>"
      ],
      "text/plain": [
       "   DISCOVERY_DATETIME  STATE  TIME_TO_CONT  FIRE_YEAR  STAT_CAUSE_CODE  \\\n",
       "0                   2    4.0          4.50       2005              9.0   \n",
       "1                   5    4.0          6.75       2004              1.0   \n",
       "2                   5    4.0          1.05       2004              5.0   \n",
       "3                   6    4.0        118.00       2004              1.0   \n",
       "4                   6    4.0        116.00       2004              1.0   \n",
       "\n",
       "    LATITUDE   LONGITUDE  FIRE_SIZE_CLASS  \n",
       "0  40.036944 -121.005833                1  \n",
       "1  38.933056 -120.404444                1  \n",
       "2  38.984167 -120.735556                1  \n",
       "3  38.559167 -119.913333                1  \n",
       "4  38.559167 -119.933056                1  "
      ]
     },
     "execution_count": 143,
     "metadata": {},
     "output_type": "execute_result"
    }
   ],
   "source": [
    "data.head()\n"
   ]
  },
  {
   "cell_type": "code",
   "execution_count": 144,
   "metadata": {},
   "outputs": [],
   "source": [
    "y = data['FIRE_SIZE_CLASS']\n",
    "X = data.drop(columns=['FIRE_SIZE_CLASS'])"
   ]
  },
  {
   "cell_type": "code",
   "execution_count": 145,
   "metadata": {},
   "outputs": [
    {
     "data": {
      "text/plain": [
       "0    1\n",
       "1    1\n",
       "2    1\n",
       "3    1\n",
       "4    1\n",
       "Name: FIRE_SIZE_CLASS, dtype: int64"
      ]
     },
     "execution_count": 145,
     "metadata": {},
     "output_type": "execute_result"
    }
   ],
   "source": [
    "y.head()"
   ]
  },
  {
   "cell_type": "code",
   "execution_count": 146,
   "metadata": {},
   "outputs": [
    {
     "data": {
      "text/html": [
       "<div>\n",
       "<style scoped>\n",
       "    .dataframe tbody tr th:only-of-type {\n",
       "        vertical-align: middle;\n",
       "    }\n",
       "\n",
       "    .dataframe tbody tr th {\n",
       "        vertical-align: top;\n",
       "    }\n",
       "\n",
       "    .dataframe thead th {\n",
       "        text-align: right;\n",
       "    }\n",
       "</style>\n",
       "<table border=\"1\" class=\"dataframe\">\n",
       "  <thead>\n",
       "    <tr style=\"text-align: right;\">\n",
       "      <th></th>\n",
       "      <th>DISCOVERY_DATETIME</th>\n",
       "      <th>STATE</th>\n",
       "      <th>TIME_TO_CONT</th>\n",
       "      <th>FIRE_YEAR</th>\n",
       "      <th>STAT_CAUSE_CODE</th>\n",
       "      <th>LATITUDE</th>\n",
       "      <th>LONGITUDE</th>\n",
       "    </tr>\n",
       "  </thead>\n",
       "  <tbody>\n",
       "    <tr>\n",
       "      <th>0</th>\n",
       "      <td>2</td>\n",
       "      <td>4.0</td>\n",
       "      <td>4.50</td>\n",
       "      <td>2005</td>\n",
       "      <td>9.0</td>\n",
       "      <td>40.036944</td>\n",
       "      <td>-121.005833</td>\n",
       "    </tr>\n",
       "    <tr>\n",
       "      <th>1</th>\n",
       "      <td>5</td>\n",
       "      <td>4.0</td>\n",
       "      <td>6.75</td>\n",
       "      <td>2004</td>\n",
       "      <td>1.0</td>\n",
       "      <td>38.933056</td>\n",
       "      <td>-120.404444</td>\n",
       "    </tr>\n",
       "    <tr>\n",
       "      <th>2</th>\n",
       "      <td>5</td>\n",
       "      <td>4.0</td>\n",
       "      <td>1.05</td>\n",
       "      <td>2004</td>\n",
       "      <td>5.0</td>\n",
       "      <td>38.984167</td>\n",
       "      <td>-120.735556</td>\n",
       "    </tr>\n",
       "    <tr>\n",
       "      <th>3</th>\n",
       "      <td>6</td>\n",
       "      <td>4.0</td>\n",
       "      <td>118.00</td>\n",
       "      <td>2004</td>\n",
       "      <td>1.0</td>\n",
       "      <td>38.559167</td>\n",
       "      <td>-119.913333</td>\n",
       "    </tr>\n",
       "    <tr>\n",
       "      <th>4</th>\n",
       "      <td>6</td>\n",
       "      <td>4.0</td>\n",
       "      <td>116.00</td>\n",
       "      <td>2004</td>\n",
       "      <td>1.0</td>\n",
       "      <td>38.559167</td>\n",
       "      <td>-119.933056</td>\n",
       "    </tr>\n",
       "  </tbody>\n",
       "</table>\n",
       "</div>"
      ],
      "text/plain": [
       "   DISCOVERY_DATETIME  STATE  TIME_TO_CONT  FIRE_YEAR  STAT_CAUSE_CODE  \\\n",
       "0                   2    4.0          4.50       2005              9.0   \n",
       "1                   5    4.0          6.75       2004              1.0   \n",
       "2                   5    4.0          1.05       2004              5.0   \n",
       "3                   6    4.0        118.00       2004              1.0   \n",
       "4                   6    4.0        116.00       2004              1.0   \n",
       "\n",
       "    LATITUDE   LONGITUDE  \n",
       "0  40.036944 -121.005833  \n",
       "1  38.933056 -120.404444  \n",
       "2  38.984167 -120.735556  \n",
       "3  38.559167 -119.913333  \n",
       "4  38.559167 -119.933056  "
      ]
     },
     "execution_count": 146,
     "metadata": {},
     "output_type": "execute_result"
    }
   ],
   "source": [
    "X.head()"
   ]
  },
  {
   "cell_type": "code",
   "execution_count": 147,
   "metadata": {},
   "outputs": [],
   "source": [
    "X_train, X_test, y_train, y_test = train_test_split(X, y, test_size=0.33, random_state=20)"
   ]
  },
  {
   "cell_type": "code",
   "execution_count": 148,
   "metadata": {},
   "outputs": [
    {
     "name": "stdout",
     "output_type": "stream",
     "text": [
      "0.998142707029603\n",
      "0.5902474156059015\n"
     ]
    }
   ],
   "source": [
    "clf = DecisionTreeClassifier(random_state=0)\n",
    "clf = clf.fit(X_train, y_train)\n",
    "y_train_predict = clf.predict(X_train)\n",
    "y_test_predict = clf.predict(X_test)\n",
    "print(accuracy_score(y_train, y_train_predict))\n",
    "print(accuracy_score(y_test, y_test_predict))"
   ]
  },
  {
   "cell_type": "code",
   "execution_count": 101,
   "metadata": {},
   "outputs": [],
   "source": [
    "md = [1, 2, 4,8, 16, 32, 64]\n",
    "rand_state = [1, 2, 3, 4, 5]"
   ]
  },
  {
   "cell_type": "code",
   "execution_count": 102,
   "metadata": {},
   "outputs": [],
   "source": [
    "clf = DecisionTreeClassifier(random_state=0)"
   ]
  },
  {
   "cell_type": "code",
   "execution_count": 103,
   "metadata": {},
   "outputs": [],
   "source": [
    "import numpy as np\n",
    "\n",
    "train_accuracy = []\n",
    "test_accuracy = []\n",
    "\n",
    "for i in md:\n",
    "    ta = []\n",
    "    tsa = []\n",
    "    for j in rand_state:\n",
    "        X_train, X_test, y_train, y_test = train_test_split(X, y, test_size=0.33, random_state=j)\n",
    "        clf = DecisionTreeClassifier(random_state=0, max_depth=i)\n",
    "        clf = clf.fit(X_train, y_train)\n",
    "        y_train_predict = clf.predict(X_train)\n",
    "        y_test_predict = clf.predict(X_test)\n",
    "        ta.append((accuracy_score(y_train, y_train_predict)))\n",
    "        tsa.append((accuracy_score(y_test, y_test_predict)))\n",
    "    train_accuracy.append(ta)\n",
    "    test_accuracy.append(tsa)"
   ]
  },
  {
   "cell_type": "code",
   "execution_count": 104,
   "metadata": {},
   "outputs": [],
   "source": [
    "train_mean = np.mean(train_accuracy,1)\n",
    "train_std = np.std(train_accuracy, 1)"
   ]
  },
  {
   "cell_type": "code",
   "execution_count": 105,
   "metadata": {},
   "outputs": [],
   "source": [
    "test_mean = np.mean(test_accuracy, 1)\n",
    "test_std = np.std(test_accuracy, 1)"
   ]
  },
  {
   "cell_type": "code",
   "execution_count": 106,
   "metadata": {},
   "outputs": [],
   "source": []
  },
  {
   "cell_type": "code",
   "execution_count": 107,
   "metadata": {},
   "outputs": [
    {
     "data": {
      "text/plain": [
       "<matplotlib.legend.Legend at 0x7fbe0dc06c18>"
      ]
     },
     "execution_count": 107,
     "metadata": {},
     "output_type": "execute_result"
    },
    {
     "data": {
      "image/png": "[encoded data removed]",
      "text/plain": [
       "<Figure size 720x360 with 1 Axes>"
      ]
     },
     "metadata": {
      "needs_background": "light"
     },
     "output_type": "display_data"
    }
   ],
   "source": [
    "plt.figure(figsize=(10,5))\n",
    "\n",
    "plt.errorbar(md, train_mean, yerr=train_std, linestyle='dashed', marker='^', label='Training Accuracy')\n",
    "plt.errorbar(md, test_mean, yerr=test_std, linestyle='dashed', marker='o', label='Testing Accuracy')\n",
    "plt.title('Training and Testing Accuracy as a Function of Decision Tree Max Depth')\n",
    "plt.ylabel('Accuracy')\n",
    "plt.xlabel('Max Depth')\n",
    "plt.xticks(md, md)\n",
    "plt.legend()"
   ]
  },
  {
   "cell_type": "markdown",
   "metadata": {},
   "source": [
    "## Try again, with data that has outliers removed"
   ]
  },
  {
   "cell_type": "code",
   "execution_count": 149,
   "metadata": {},
   "outputs": [],
   "source": [
    "data = pd.read_pickle('final_data_without_outliers.pkl')"
   ]
  },
  {
   "cell_type": "code",
   "execution_count": null,
   "metadata": {},
   "outputs": [],
   "source": []
  },
  {
   "cell_type": "code",
   "execution_count": 159,
   "metadata": {},
   "outputs": [],
   "source": [
    "y = data['FIRE_SIZE_CLASS']\n",
    "X = data.drop(columns=['FIRE_SIZE_CLASS', 'DISCOVERY_TIME', 'DISCOVERY_DATETIME'])"
   ]
  },
  {
   "cell_type": "code",
   "execution_count": 160,
   "metadata": {},
   "outputs": [
    {
     "data": {
      "text/html": [
       "<div>\n",
       "<style scoped>\n",
       "    .dataframe tbody tr th:only-of-type {\n",
       "        vertical-align: middle;\n",
       "    }\n",
       "\n",
       "    .dataframe tbody tr th {\n",
       "        vertical-align: top;\n",
       "    }\n",
       "\n",
       "    .dataframe thead th {\n",
       "        text-align: right;\n",
       "    }\n",
       "</style>\n",
       "<table border=\"1\" class=\"dataframe\">\n",
       "  <thead>\n",
       "    <tr style=\"text-align: right;\">\n",
       "      <th></th>\n",
       "      <th>STAT_CAUSE_CODE</th>\n",
       "      <th>LONGITUDE</th>\n",
       "      <th>LATITUDE</th>\n",
       "      <th>CONT_TIME</th>\n",
       "      <th>FIRE_YEAR</th>\n",
       "      <th>STATE_CODE</th>\n",
       "      <th>HOURS_TO_CONT</th>\n",
       "    </tr>\n",
       "  </thead>\n",
       "  <tbody>\n",
       "    <tr>\n",
       "      <th>0</th>\n",
       "      <td>9.0</td>\n",
       "      <td>-121.005833</td>\n",
       "      <td>40.036944</td>\n",
       "      <td>1730</td>\n",
       "      <td>2005</td>\n",
       "      <td>0</td>\n",
       "      <td>4</td>\n",
       "    </tr>\n",
       "    <tr>\n",
       "      <th>1</th>\n",
       "      <td>1.0</td>\n",
       "      <td>-120.404444</td>\n",
       "      <td>38.933056</td>\n",
       "      <td>1530</td>\n",
       "      <td>2004</td>\n",
       "      <td>0</td>\n",
       "      <td>7</td>\n",
       "    </tr>\n",
       "    <tr>\n",
       "      <th>2</th>\n",
       "      <td>5.0</td>\n",
       "      <td>-120.735556</td>\n",
       "      <td>38.984167</td>\n",
       "      <td>2024</td>\n",
       "      <td>2004</td>\n",
       "      <td>0</td>\n",
       "      <td>1</td>\n",
       "    </tr>\n",
       "    <tr>\n",
       "      <th>3</th>\n",
       "      <td>1.0</td>\n",
       "      <td>-119.913333</td>\n",
       "      <td>38.559167</td>\n",
       "      <td>1400</td>\n",
       "      <td>2004</td>\n",
       "      <td>0</td>\n",
       "      <td>118</td>\n",
       "    </tr>\n",
       "    <tr>\n",
       "      <th>4</th>\n",
       "      <td>1.0</td>\n",
       "      <td>-119.933056</td>\n",
       "      <td>38.559167</td>\n",
       "      <td>1200</td>\n",
       "      <td>2004</td>\n",
       "      <td>0</td>\n",
       "      <td>116</td>\n",
       "    </tr>\n",
       "  </tbody>\n",
       "</table>\n",
       "</div>"
      ],
      "text/plain": [
       "   STAT_CAUSE_CODE   LONGITUDE   LATITUDE  CONT_TIME  FIRE_YEAR  STATE_CODE  \\\n",
       "0              9.0 -121.005833  40.036944       1730       2005           0   \n",
       "1              1.0 -120.404444  38.933056       1530       2004           0   \n",
       "2              5.0 -120.735556  38.984167       2024       2004           0   \n",
       "3              1.0 -119.913333  38.559167       1400       2004           0   \n",
       "4              1.0 -119.933056  38.559167       1200       2004           0   \n",
       "\n",
       "   HOURS_TO_CONT  \n",
       "0              4  \n",
       "1              7  \n",
       "2              1  \n",
       "3            118  \n",
       "4            116  "
      ]
     },
     "execution_count": 160,
     "metadata": {},
     "output_type": "execute_result"
    }
   ],
   "source": [
    "X.head()"
   ]
  },
  {
   "cell_type": "code",
   "execution_count": 161,
   "metadata": {},
   "outputs": [],
   "source": [
    "md = [1, 2, 4,8, 16, 32, 64]\n",
    "rand_state = [1, 2, 3, 4, 5]"
   ]
  },
  {
   "cell_type": "code",
   "execution_count": 162,
   "metadata": {},
   "outputs": [],
   "source": [
    "import numpy as np\n",
    "\n",
    "train_accuracy = []\n",
    "test_accuracy = []\n",
    "\n",
    "for i in md:\n",
    "    ta = []\n",
    "    tsa = []\n",
    "    for j in rand_state:\n",
    "        X_train, X_test, y_train, y_test = train_test_split(X, y, test_size=0.33, random_state=j)\n",
    "        clf = DecisionTreeClassifier(random_state=j, max_depth=i)\n",
    "        clf = clf.fit(X_train, y_train)\n",
    "        y_train_predict = clf.predict(X_train)\n",
    "        y_test_predict = clf.predict(X_test)\n",
    "        ta.append((accuracy_score(y_train, y_train_predict)))\n",
    "        tsa.append((accuracy_score(y_test, y_test_predict)))\n",
    "    train_accuracy.append(ta)\n",
    "    test_accuracy.append(tsa)"
   ]
  },
  {
   "cell_type": "code",
   "execution_count": 165,
   "metadata": {},
   "outputs": [
    {
     "data": {
      "text/plain": [
       "[[0.6316459448911876,\n",
       "  0.6329641211516204,\n",
       "  0.631161887789199,\n",
       "  0.6315487984831761,\n",
       "  0.6310061185487666],\n",
       " [0.6387242331714785,\n",
       "  0.64044606950658,\n",
       "  0.6385416649219395,\n",
       "  0.6394645557980494,\n",
       "  0.6381463795376165],\n",
       " [0.6468811815683115,\n",
       "  0.6475963801238449,\n",
       "  0.6469414793388014,\n",
       "  0.6472027696775912,\n",
       "  0.6463401765719713],\n",
       " [0.6544904252165277,\n",
       "  0.6547215666700724,\n",
       "  0.6541303135316572,\n",
       "  0.6550146808321762,\n",
       "  0.6538020256701008],\n",
       " [0.6636322371980296,\n",
       "  0.6633357731597874,\n",
       "  0.6630644331925827,\n",
       "  0.6634010957444848,\n",
       "  0.6623458847609109],\n",
       " [0.6737672874545464,\n",
       "  0.6735478705674858,\n",
       "  0.6733887514509151,\n",
       "  0.6735110219299641,\n",
       "  0.6734641236640275],\n",
       " [0.6868301294559633,\n",
       "  0.6860127596782108,\n",
       "  0.6860194594304876,\n",
       "  0.6863527721062513,\n",
       "  0.6869122014213525],\n",
       " [0.7020636911950181,\n",
       "  0.701291544745133,\n",
       "  0.7011022767433174,\n",
       "  0.7013267184445855,\n",
       "  0.7021893115502055],\n",
       " [0.7198599081798951,\n",
       "  0.718660652522373,\n",
       "  0.7182636921999809,\n",
       "  0.7189202679230935,\n",
       "  0.7196773399303561],\n",
       " [0.740215430534456,\n",
       "  0.7386292641829568,\n",
       "  0.7382289539844265,\n",
       "  0.7382741773122938,\n",
       "  0.7396961997330149],\n",
       " [0.7620281490091904,\n",
       "  0.7600785210966825,\n",
       "  0.7602644392223598,\n",
       "  0.7597033349691895,\n",
       "  0.7612995509491036],\n",
       " [0.7852813142234066,\n",
       "  0.7830435969630023,\n",
       "  0.7827890063764892,\n",
       "  0.7825427904803219,\n",
       "  0.7842462024966627],\n",
       " [0.8093401246488912,\n",
       "  0.8067322460752013,\n",
       "  0.8063972584613683,\n",
       "  0.8061476926890628,\n",
       "  0.8082849136653172]]"
      ]
     },
     "execution_count": 165,
     "metadata": {},
     "output_type": "execute_result"
    }
   ],
   "source": [
    "train_accuracy"
   ]
  },
  {
   "cell_type": "code",
   "execution_count": 163,
   "metadata": {},
   "outputs": [],
   "source": [
    "train_mean = np.mean(train_accuracy,1)\n",
    "train_std = np.std(train_accuracy, 1)\n",
    "test_mean = np.mean(test_accuracy, 1)\n",
    "test_std = np.std(test_accuracy, 1)"
   ]
  },
  {
   "cell_type": "code",
   "execution_count": 164,
   "metadata": {},
   "outputs": [
    {
     "data": {
      "text/plain": [
       "<matplotlib.legend.Legend at 0x7fbde19850b8>"
      ]
     },
     "execution_count": 164,
     "metadata": {},
     "output_type": "execute_result"
    },
    {
     "data": {
      "image/png": "[encoded data removed]",
      "text/plain": [
       "<Figure size 720x360 with 1 Axes>"
      ]
     },
     "metadata": {
      "needs_background": "light"
     },
     "output_type": "display_data"
    }
   ],
   "source": [
    "plt.figure(figsize=(10,5))\n",
    "\n",
    "plt.errorbar(md, train_mean, yerr=train_std, linestyle='dashed', marker='^', label='Training Accuracy')\n",
    "plt.errorbar(md, test_mean, yerr=test_std, linestyle='dashed', marker='o', label='Testing Accuracy')\n",
    "plt.title('Training and Testing Accuracy as a Function of Decision Tree Max Depth')\n",
    "plt.ylabel('Accuracy')\n",
    "plt.xlabel('Max Depth')\n",
    "plt.xticks(md, md)\n",
    "plt.legend()"
   ]
  },
  {
   "cell_type": "markdown",
   "metadata": {},
   "source": [
    "## Conclusion, removing outliers has little impact on this specific measure"
   ]
  },
  {
   "cell_type": "markdown",
   "metadata": {},
   "source": [
    "## Try more detailed look at tree depth"
   ]
  },
  {
   "cell_type": "code",
   "execution_count": null,
   "metadata": {},
   "outputs": [],
   "source": [
    "md = [8, 9, 10, 11, 12, 13, 14, 15, 16, 17, 18, 19, 20]\n",
    "rand_state = [1, 2, 3, 4, 5]"
   ]
  },
  {
   "cell_type": "code",
   "execution_count": null,
   "metadata": {},
   "outputs": [],
   "source": [
    "import numpy as np\n",
    "\n",
    "train_accuracy = []\n",
    "test_accuracy = []\n",
    "\n",
    "for i in md:\n",
    "    ta = []\n",
    "    tsa = []\n",
    "    for j in rand_state:\n",
    "        X_train, X_test, y_train, y_test = train_test_split(X, y, test_size=0.33, random_state=j)\n",
    "        clf = DecisionTreeClassifier(random_state=j, max_depth=i)\n",
    "        clf = clf.fit(X_train, y_train)\n",
    "        y_train_predict = clf.predict(X_train)\n",
    "        y_test_predict = clf.predict(X_test)\n",
    "        ta.append((accuracy_score(y_train, y_train_predict)))\n",
    "        tsa.append((accuracy_score(y_test, y_test_predict)))\n",
    "    train_accuracy.append(ta)\n",
    "    test_accuracy.append(tsa)"
   ]
  },
  {
   "cell_type": "code",
   "execution_count": null,
   "metadata": {},
   "outputs": [],
   "source": [
    "train_mean = np.mean(train_accuracy,1)\n",
    "train_std = np.std(train_accuracy, 1)\n",
    "test_mean = np.mean(test_accuracy, 1)\n",
    "test_std = np.std(test_accuracy, 1)"
   ]
  },
  {
   "cell_type": "code",
   "execution_count": null,
   "metadata": {},
   "outputs": [],
   "source": [
    "plt.figure(figsize=(10,5))\n",
    "\n",
    "plt.errorbar(md, train_mean, yerr=train_std, linestyle='dashed', marker='^', label='Training Accuracy')\n",
    "plt.errorbar(md, test_mean, yerr=test_std, linestyle='dashed', marker='o', label='Testing Accuracy')\n",
    "plt.title('Training and Testing Accuracy as a Function of Decision Tree Max Depth')\n",
    "plt.ylabel('Accuracy')\n",
    "plt.xlabel('Max Depth')\n",
    "plt.xticks(md, md)\n",
    "plt.legend()"
   ]
  }
 ],
 "metadata": {
  "kernelspec": {
   "display_name": "Python 3",
   "language": "python",
   "name": "python3"
  },
  "language_info": {
   "codemirror_mode": {
    "name": "ipython",
    "version": 3
   },
   "file_extension": ".py",
   "mimetype": "text/x-python",
   "name": "python",
   "nbconvert_exporter": "python",
   "pygments_lexer": "ipython3",
   "version": "3.6.8"
  }
 },
 "nbformat": 4,
 "nbformat_minor": 2
}
